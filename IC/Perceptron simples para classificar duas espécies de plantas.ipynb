{
 "cells": [
  {
   "cell_type": "markdown",
   "metadata": {},
   "source": [
    "   # Perceptron simples para classificação de duas espécies de flores do gênero Iris\n",
    "   #### Universidade Federal de Uberlândia - Inteligência Computacional\n",
    "                        6 de junho de 2018\n"
   ]
  },
  {
   "cell_type": "markdown",
   "metadata": {},
   "source": [
    "             Arthur Ribeiro - Bruno Moreira - Ian Resende\n",
    "                     Gabriel Ferraz - Kim Ruan  \n",
    "     \n",
    "     \n",
    "     "
   ]
  },
  {
   "cell_type": "markdown",
   "metadata": {},
   "source": [
    "###### Resumo\n",
    "   As Redes Neurais Artificiais, buscam, a partir do interligamento de unidades individuais denominadas neurônios artificiais, modelor o comportamento do cérebro para a resolução de problemas. São amplamente utilizadas em problemas de classificação, onde é necessário associar uma amostra a um conjunto de classes predefinidas\n",
    "    \n",
    "       Este trabalho apresenta o uso de um Perceptron Simples para \n",
    "       realizar a classificação de duas espécies de flores do gênero \n",
    "       Iris.\n",
    "\n",
    "\n",
    "Palavras chaves: Redes neuras, RNA, Perceptron, Iris."
   ]
  },
  {
   "cell_type": "markdown",
   "metadata": {},
   "source": [
    "###### Introdução\n",
    "\n",
    "   Neste trabalho uma camada única, constituída de um Perceptron Simples com 4 pesos independentes, é utilizada para realizar a classificação de duas espécies de flores do gênero Iris, Iris Setosa e Iris Versicolor, dado o tamanho e largura das sépalas, assim como o tamanho e largura das pétalas.\n",
    "    \n",
    "        O relatório está organizado da seguinte forma: a Seção 2, apresenta a contextualização do problema. A Seção 3, descreve a metodologia utilizada para o desenvolvimento do projeto. Os resultados e suas respectivas análises são apresentados na Seção 4. Finalmente, a Seção 5 apresenta as conclusões do trabalho."
   ]
  },
  {
   "cell_type": "markdown",
   "metadata": {},
   "source": [
    "###### 2. Problema Abordado\n",
    "    Iris é um género de plantas com flor, muito apreciado pelas suas diversas espécies, que ostentam flores de cores muito vivas.\n",
    "    \n",
    "    Espécies de Iris podem ser utilizadas desde filtragem de água, produção de bebidas destiladas até produção de veneno para armamentos (flechas envenenadas do período medieval). Devido a sua diversidade de usos, é necessário que o produtor saiba diferenciar suas espécies a fim de não causar problemas na produção do produto final, seja este um perfume, bebida, ou qualquer outro fim.\n",
    "    \n",
    "    Para o uso correto da planta, é necessário então, poder classificar a mesma em sua devida espécie, e por isso, foi proposto a solução de um classificador que possa predizer de qual espécie determinada planta é, dado uma situação onde um botânico precisa dessa informação para prosseguir com seu planejamento e cultivo"
   ]
  },
  {
   "cell_type": "markdown",
   "metadata": {},
   "source": [
    "###### Metodologia\n",
    "Essa seção descreve a construção e arquitetura da rede neural artificial utilizada no projeto."
   ]
  },
  {
   "cell_type": "code",
   "execution_count": 2,
   "metadata": {},
   "outputs": [],
   "source": [
    "# -*- coding: utf-8 -*-\n",
    "#https://archive.ics.uci.edu/ml/datasets/iris"
   ]
  },
  {
   "cell_type": "code",
   "execution_count": 1,
   "metadata": {},
   "outputs": [],
   "source": [
    "%matplotlib inline"
   ]
  },
  {
   "cell_type": "code",
   "execution_count": 22,
   "metadata": {},
   "outputs": [],
   "source": [
    "from matplotlib import pyplot as plt\n",
    "import numpy as np\n",
    "import pandas as pd\n",
    "from IPython.core.display import display\n",
    "from IPython.display import Image\n",
    "import seaborn as sns\n",
    "sns.set()"
   ]
  },
  {
   "cell_type": "markdown",
   "metadata": {},
   "source": [
    "###### 3.1 Exploração dos dados para planejamento da arquitetura"
   ]
  },
  {
   "cell_type": "code",
   "execution_count": 23,
   "metadata": {
    "scrolled": true
   },
   "outputs": [
    {
     "data": {
      "text/html": [
       "<div>\n",
       "<style scoped>\n",
       "    .dataframe tbody tr th:only-of-type {\n",
       "        vertical-align: middle;\n",
       "    }\n",
       "\n",
       "    .dataframe tbody tr th {\n",
       "        vertical-align: top;\n",
       "    }\n",
       "\n",
       "    .dataframe thead th {\n",
       "        text-align: right;\n",
       "    }\n",
       "</style>\n",
       "<table border=\"1\" class=\"dataframe\">\n",
       "  <thead>\n",
       "    <tr style=\"text-align: right;\">\n",
       "      <th></th>\n",
       "      <th>Id</th>\n",
       "      <th>SepalLengthCm</th>\n",
       "      <th>SepalWidthCm</th>\n",
       "      <th>PetalLengthCm</th>\n",
       "      <th>PetalWidthCm</th>\n",
       "      <th>Species</th>\n",
       "    </tr>\n",
       "  </thead>\n",
       "  <tbody>\n",
       "    <tr>\n",
       "      <th>0</th>\n",
       "      <td>1</td>\n",
       "      <td>5.1</td>\n",
       "      <td>3.5</td>\n",
       "      <td>1.4</td>\n",
       "      <td>0.2</td>\n",
       "      <td>Iris-setosa</td>\n",
       "    </tr>\n",
       "    <tr>\n",
       "      <th>1</th>\n",
       "      <td>2</td>\n",
       "      <td>4.9</td>\n",
       "      <td>3.0</td>\n",
       "      <td>1.4</td>\n",
       "      <td>0.2</td>\n",
       "      <td>Iris-setosa</td>\n",
       "    </tr>\n",
       "    <tr>\n",
       "      <th>2</th>\n",
       "      <td>3</td>\n",
       "      <td>4.7</td>\n",
       "      <td>3.2</td>\n",
       "      <td>1.3</td>\n",
       "      <td>0.2</td>\n",
       "      <td>Iris-setosa</td>\n",
       "    </tr>\n",
       "    <tr>\n",
       "      <th>3</th>\n",
       "      <td>4</td>\n",
       "      <td>4.6</td>\n",
       "      <td>3.1</td>\n",
       "      <td>1.5</td>\n",
       "      <td>0.2</td>\n",
       "      <td>Iris-setosa</td>\n",
       "    </tr>\n",
       "    <tr>\n",
       "      <th>4</th>\n",
       "      <td>5</td>\n",
       "      <td>5.0</td>\n",
       "      <td>3.6</td>\n",
       "      <td>1.4</td>\n",
       "      <td>0.2</td>\n",
       "      <td>Iris-setosa</td>\n",
       "    </tr>\n",
       "  </tbody>\n",
       "</table>\n",
       "</div>"
      ],
      "text/plain": [
       "   Id  SepalLengthCm  SepalWidthCm  PetalLengthCm  PetalWidthCm      Species\n",
       "0   1            5.1           3.5            1.4           0.2  Iris-setosa\n",
       "1   2            4.9           3.0            1.4           0.2  Iris-setosa\n",
       "2   3            4.7           3.2            1.3           0.2  Iris-setosa\n",
       "3   4            4.6           3.1            1.5           0.2  Iris-setosa\n",
       "4   5            5.0           3.6            1.4           0.2  Iris-setosa"
      ]
     },
     "metadata": {},
     "output_type": "display_data"
    }
   ],
   "source": [
    "iris = pd.read_csv('train.csv')\n",
    "display(iris.head(5))\n"
   ]
  },
  {
   "cell_type": "markdown",
   "metadata": {},
   "source": [
    "Como podemos observar, o dataset possui 4 features em cada linha, juntamente com um identificador e a sua respectiva espécie, dada pelas strings:\n",
    "        \n",
    "           Iris-setosa / Iris-versicolor\n",
    "           \n",
    "Iremos agora, explorar e demonstrar a justificativa de nossa escolha pela arquitetura utilizada neste trabalho, consequência da exploração das distribuições das features em cada uma das espécies do dataset."
   ]
  },
  {
   "cell_type": "code",
   "execution_count": 24,
   "metadata": {
    "scrolled": false
   },
   "outputs": [
    {
     "data": {
      "image/png": "[encoded data removed]",
      "text/plain": [
       "<matplotlib.figure.Figure at 0x10ede5f10>"
      ]
     },
     "metadata": {},
     "output_type": "display_data"
    },
    {
     "data": {
      "image/png": "[encoded data removed]",
      "text/plain": [
       "<matplotlib.figure.Figure at 0x10eef2c90>"
      ]
     },
     "metadata": {},
     "output_type": "display_data"
    },
    {
     "data": {
      "image/png": "[encoded data removed]",
      "text/plain": [
       "<matplotlib.figure.Figure at 0x10eef2cd0>"
      ]
     },
     "metadata": {},
     "output_type": "display_data"
    },
    {
     "data": {
      "image/png": "[encoded data removed]",
      "text/plain": [
       "<matplotlib.figure.Figure at 0x10f262150>"
      ]
     },
     "metadata": {},
     "output_type": "display_data"
    }
   ],
   "source": [
    "def plot_histogram_dv(feature,labels):\n",
    "    plt.figure(figsize=(15,10))\n",
    "    plt.hist(list(feature[labels=='Iris-setosa']), alpha=0.5, label='Setosa')\n",
    "    plt.hist(list(feature[labels=='Iris-versicolor']), alpha=0.5, label='Versicolor')\n",
    "    plt.title(\"Histogram of '{var_name}' by Species\".format(var_name=feature.name))\n",
    "    plt.xlabel(\"Valor\")\n",
    "    plt.ylabel(\"Frequencia\")\n",
    "    plt.legend(loc=\"upper right\")\n",
    "    plt.show()\n",
    "    \n",
    "plot_histogram_dv(iris['SepalLengthCm'], iris['Species'])\n",
    "plot_histogram_dv(iris['SepalWidthCm'], iris['Species'])\n",
    "plot_histogram_dv(iris['PetalLengthCm'], iris['Species'])\n",
    "plot_histogram_dv(iris['PetalWidthCm'], iris['Species'])"
   ]
  },
  {
   "cell_type": "markdown",
   "metadata": {},
   "source": [
    "###### 3.2 Arquitetura do Perceptron\n",
    "   Para solucionar o problema discutido, deve-se classificar a flor entre as classes Iris-setosa(azul) e Iris-versicolor(verde), como mostrado anteriormente, podemos então perceber, que pelas features PetalLengthCm e PetalWidthCm existe uma diferença perceptível entre as duas classes de espécies, onde é possível, assim como demonstrado abaixo, enquadrar este problema como linearmente separável."
   ]
  },
  {
   "cell_type": "code",
   "execution_count": 25,
   "metadata": {},
   "outputs": [
    {
     "data": {
      "image/png": "[encoded data removed]",
      "text/plain": [
       "<matplotlib.figure.Figure at 0x10f529450>"
      ]
     },
     "metadata": {},
     "output_type": "display_data"
    }
   ],
   "source": [
    "setosas_length = []\n",
    "versicolors_length = []\n",
    "setosas_width = []\n",
    "versicolors_width = []\n",
    "\n",
    "#Fazendo um array de cada uma das especies da feature PetalLengthCm\n",
    "for index, row in iris.iterrows():\n",
    "    if row['Species'] == 'Iris-setosa':\n",
    "        setosas_length.append(row['PetalLengthCm'])\n",
    "        setosas_width.append(row['PetalWidthCm'])\n",
    "    else:\n",
    "        versicolors_length.append(row['PetalLengthCm'])\n",
    "        versicolors_width.append(row['PetalWidthCm'])\n",
    "        \n",
    "#Fazendo com que os dois arrays sejam do mesmo tamanho para visualizacao\n",
    "versicolors_length = versicolors_length[:len(setosas_length)]\n",
    "versicolors_width = versicolors_width[:len(setosas_width)]\n",
    "\n",
    "#Plotando um scatter plot das duas features linearmente separaveis\n",
    "plt.figure(figsize=(15,10))\n",
    "plt.scatter(setosas_length, setosas_width, c=[\"b\", \"b\"], alpha=0.5)\n",
    "plt.scatter(versicolors_width, versicolors_length, c=[\"g\", \"g\"], alpha=0.5)\n",
    "plt.show()"
   ]
  },
  {
   "cell_type": "markdown",
   "metadata": {},
   "source": [
    "###### 3.3 Pre processamento e preparamento do dataset \n",
    "Dividimos o dataset em 80% para treino e 20% para testes de performance e métricas de acerto.\n",
    "\n",
    "Depois desta etapa de seleção, criamos um array que servirá como target, de cada uma das posições do dataset original para comparação posterior"
   ]
  },
  {
   "cell_type": "code",
   "execution_count": 26,
   "metadata": {
    "scrolled": false
   },
   "outputs": [
    {
     "data": {
      "text/html": [
       "<div>\n",
       "<style scoped>\n",
       "    .dataframe tbody tr th:only-of-type {\n",
       "        vertical-align: middle;\n",
       "    }\n",
       "\n",
       "    .dataframe tbody tr th {\n",
       "        vertical-align: top;\n",
       "    }\n",
       "\n",
       "    .dataframe thead th {\n",
       "        text-align: right;\n",
       "    }\n",
       "</style>\n",
       "<table border=\"1\" class=\"dataframe\">\n",
       "  <thead>\n",
       "    <tr style=\"text-align: right;\">\n",
       "      <th></th>\n",
       "      <th>Id</th>\n",
       "      <th>SepalLengthCm</th>\n",
       "      <th>SepalWidthCm</th>\n",
       "      <th>PetalLengthCm</th>\n",
       "      <th>PetalWidthCm</th>\n",
       "      <th>Species</th>\n",
       "    </tr>\n",
       "  </thead>\n",
       "  <tbody>\n",
       "    <tr>\n",
       "      <th>36</th>\n",
       "      <td>73</td>\n",
       "      <td>6.3</td>\n",
       "      <td>2.5</td>\n",
       "      <td>4.9</td>\n",
       "      <td>1.5</td>\n",
       "      <td>Iris-versicolor</td>\n",
       "    </tr>\n",
       "    <tr>\n",
       "      <th>37</th>\n",
       "      <td>74</td>\n",
       "      <td>6.1</td>\n",
       "      <td>2.8</td>\n",
       "      <td>4.7</td>\n",
       "      <td>1.2</td>\n",
       "      <td>Iris-versicolor</td>\n",
       "    </tr>\n",
       "    <tr>\n",
       "      <th>38</th>\n",
       "      <td>68</td>\n",
       "      <td>5.8</td>\n",
       "      <td>2.7</td>\n",
       "      <td>4.1</td>\n",
       "      <td>1.0</td>\n",
       "      <td>Iris-versicolor</td>\n",
       "    </tr>\n",
       "    <tr>\n",
       "      <th>39</th>\n",
       "      <td>11</td>\n",
       "      <td>5.4</td>\n",
       "      <td>3.7</td>\n",
       "      <td>1.5</td>\n",
       "      <td>0.2</td>\n",
       "      <td>Iris-setosa</td>\n",
       "    </tr>\n",
       "    <tr>\n",
       "      <th>40</th>\n",
       "      <td>2</td>\n",
       "      <td>4.9</td>\n",
       "      <td>3.0</td>\n",
       "      <td>1.4</td>\n",
       "      <td>0.2</td>\n",
       "      <td>Iris-setosa</td>\n",
       "    </tr>\n",
       "  </tbody>\n",
       "</table>\n",
       "</div>"
      ],
      "text/plain": [
       "    Id  SepalLengthCm  SepalWidthCm  PetalLengthCm  PetalWidthCm  \\\n",
       "36  73            6.3           2.5            4.9           1.5   \n",
       "37  74            6.1           2.8            4.7           1.2   \n",
       "38  68            5.8           2.7            4.1           1.0   \n",
       "39  11            5.4           3.7            1.5           0.2   \n",
       "40   2            4.9           3.0            1.4           0.2   \n",
       "\n",
       "            Species  \n",
       "36  Iris-versicolor  \n",
       "37  Iris-versicolor  \n",
       "38  Iris-versicolor  \n",
       "39      Iris-setosa  \n",
       "40      Iris-setosa  "
      ]
     },
     "metadata": {},
     "output_type": "display_data"
    },
    {
     "data": {
      "text/plain": [
       "36    Iris-versicolor\n",
       "37    Iris-versicolor\n",
       "38    Iris-versicolor\n",
       "39        Iris-setosa\n",
       "40        Iris-setosa\n",
       "Name: Species, dtype: object"
      ]
     },
     "metadata": {},
     "output_type": "display_data"
    }
   ],
   "source": [
    "#randomizando ordem de linhas no dataframe\n",
    "iris = iris.sample(frac=1).reset_index(drop=True)\n",
    "\n",
    "#calculando tamanho do dataset e indice do corte\n",
    "iris_len = len(iris)\n",
    "iris_split_size = int(iris_len * 0.8)\n",
    "\n",
    "iris_train = iris[:iris_split_size]\n",
    "iris_test = iris[iris_split_size:]    \n",
    "\n",
    "#criando array de labels\n",
    "labels_train = iris[:iris_split_size]['Species']\n",
    "labels_test = iris[iris_split_size:]['Species']\n",
    "\n",
    "display(iris_test.head(5))\n",
    "display(labels_test.head(5))"
   ]
  },
  {
   "cell_type": "markdown",
   "metadata": {},
   "source": [
    "###### Continuação 3.2:\n",
    "\n",
    "Criamos então, uma cópia do dataset que possui uma nova coluna chamada label, que classifica as espécies da seguinte forma:\n",
    "                \n",
    "      Iris-setosa : Label = 0\n",
    "      Iris-versicolor : Label = 1"
   ]
  },
  {
   "cell_type": "code",
   "execution_count": 27,
   "metadata": {},
   "outputs": [
    {
     "data": {
      "text/html": [
       "<div>\n",
       "<style scoped>\n",
       "    .dataframe tbody tr th:only-of-type {\n",
       "        vertical-align: middle;\n",
       "    }\n",
       "\n",
       "    .dataframe tbody tr th {\n",
       "        vertical-align: top;\n",
       "    }\n",
       "\n",
       "    .dataframe thead th {\n",
       "        text-align: right;\n",
       "    }\n",
       "</style>\n",
       "<table border=\"1\" class=\"dataframe\">\n",
       "  <thead>\n",
       "    <tr style=\"text-align: right;\">\n",
       "      <th></th>\n",
       "      <th>Id</th>\n",
       "      <th>SepalLengthCm</th>\n",
       "      <th>SepalWidthCm</th>\n",
       "      <th>PetalLengthCm</th>\n",
       "      <th>PetalWidthCm</th>\n",
       "      <th>Species</th>\n",
       "      <th>label</th>\n",
       "    </tr>\n",
       "  </thead>\n",
       "  <tbody>\n",
       "    <tr>\n",
       "      <th>31</th>\n",
       "      <td>18</td>\n",
       "      <td>5.1</td>\n",
       "      <td>3.5</td>\n",
       "      <td>1.4</td>\n",
       "      <td>0.3</td>\n",
       "      <td>Iris-setosa</td>\n",
       "      <td>1.0</td>\n",
       "    </tr>\n",
       "    <tr>\n",
       "      <th>32</th>\n",
       "      <td>9</td>\n",
       "      <td>4.4</td>\n",
       "      <td>2.9</td>\n",
       "      <td>1.4</td>\n",
       "      <td>0.2</td>\n",
       "      <td>Iris-setosa</td>\n",
       "      <td>1.0</td>\n",
       "    </tr>\n",
       "    <tr>\n",
       "      <th>33</th>\n",
       "      <td>75</td>\n",
       "      <td>6.4</td>\n",
       "      <td>2.9</td>\n",
       "      <td>4.3</td>\n",
       "      <td>1.3</td>\n",
       "      <td>Iris-versicolor</td>\n",
       "      <td>0.0</td>\n",
       "    </tr>\n",
       "    <tr>\n",
       "      <th>34</th>\n",
       "      <td>19</td>\n",
       "      <td>5.7</td>\n",
       "      <td>3.8</td>\n",
       "      <td>1.7</td>\n",
       "      <td>0.3</td>\n",
       "      <td>Iris-setosa</td>\n",
       "      <td>1.0</td>\n",
       "    </tr>\n",
       "    <tr>\n",
       "      <th>35</th>\n",
       "      <td>58</td>\n",
       "      <td>4.9</td>\n",
       "      <td>2.4</td>\n",
       "      <td>3.3</td>\n",
       "      <td>1.0</td>\n",
       "      <td>Iris-versicolor</td>\n",
       "      <td>0.0</td>\n",
       "    </tr>\n",
       "  </tbody>\n",
       "</table>\n",
       "</div>"
      ],
      "text/plain": [
       "    Id  SepalLengthCm  SepalWidthCm  PetalLengthCm  PetalWidthCm  \\\n",
       "31  18            5.1           3.5            1.4           0.3   \n",
       "32   9            4.4           2.9            1.4           0.2   \n",
       "33  75            6.4           2.9            4.3           1.3   \n",
       "34  19            5.7           3.8            1.7           0.3   \n",
       "35  58            4.9           2.4            3.3           1.0   \n",
       "\n",
       "            Species  label  \n",
       "31      Iris-setosa    1.0  \n",
       "32      Iris-setosa    1.0  \n",
       "33  Iris-versicolor    0.0  \n",
       "34      Iris-setosa    1.0  \n",
       "35  Iris-versicolor    0.0  "
      ]
     },
     "metadata": {},
     "output_type": "display_data"
    }
   ],
   "source": [
    "iris_labeled_train = iris_train.copy()\n",
    "\n",
    "for i in range(0, len(iris_labeled_train)):\n",
    "    if iris_train['Species'][i] == 'Iris-setosa':\n",
    "        iris_labeled_train.loc[i, 'label'] = 1\n",
    "    else:\n",
    "        iris_labeled_train.loc[i, 'label'] = 0\n",
    "\n",
    "display(iris_labeled_train.tail(5))\n",
    "\n",
    "\n"
   ]
  },
  {
   "cell_type": "markdown",
   "metadata": {},
   "source": [
    "###### 3.3 Características da arquitetura\n",
    "\n",
    "Com quatro entradas por amostra, o neurônio calcula o sinal de ativação, onde o peso das duas features que vimos anteriormente, torna possível essa divisão linear entre as classes, que por sua vez, é submetido à função de ativação.\n",
    "\n",
    "Foi utilizada como função de ativação a função sigmóide dada por:"
   ]
  },
  {
   "cell_type": "code",
   "execution_count": 28,
   "metadata": {},
   "outputs": [
    {
     "data": {
      "image/png": "[encoded data removed]",
      "text/plain": [
       "<IPython.core.display.Image object>"
      ]
     },
     "execution_count": 28,
     "metadata": {},
     "output_type": "execute_result"
    }
   ],
   "source": [
    "Image('sigmoide.png')"
   ]
  },
  {
   "cell_type": "code",
   "execution_count": 29,
   "metadata": {},
   "outputs": [],
   "source": [
    "def sigmoid(x):\n",
    "    return 1/(1 + np.exp(-x))\n",
    "\n",
    "def sigmoid_p(x):\n",
    "    return sigmoid(x) * (1-sigmoid(x))\n"
   ]
  },
  {
   "cell_type": "markdown",
   "metadata": {},
   "source": [
    "###### 3.4 Treinamento\n",
    "Para a rede, foi utilizado um treinamento supervisionado, utilizado o dataset construído conforme os passos anteriores. Os vetores de peso foram iniciados com valores aleatórios, assim como o viés, enquanto o conjunto de dados foi embaralhado randomicamente."
   ]
  },
  {
   "cell_type": "code",
   "execution_count": 40,
   "metadata": {
    "scrolled": false
   },
   "outputs": [],
   "source": [
    "learning_rate = 0.2\n",
    "costs = []\n",
    "\n",
    "#pesos e bias aleatório\n",
    "w1 = np.random.randn()\n",
    "w2 = np.random.randn()\n",
    "w3 = np.random.randn()\n",
    "w4 = np.random.randn()\n",
    "b = np.random.randn()\n",
    "\n",
    "#Criando um numpy array apenas com os valores de cada feature\n",
    "data = iris_labeled_train[['SepalLengthCm', 'SepalWidthCm', 'PetalLengthCm', 'PetalWidthCm', 'label']].values\n",
    "labels = []\n",
    "\n",
    "#Definindo as labels como 0 ou 1\n",
    "#Iris-Versicolor = 1\n",
    "#Iris-Virginica = 0\n",
    "\n",
    "        \n",
    "repetitions = 10000\n",
    "\n",
    "for i in range(0, repetitions):\n",
    "    #Escolhendo um ponto aleatorio do dataset a cada iteracao\n",
    "    ri = np.random.randint(len(data))\n",
    "    point = data[ri]\n",
    "    \n",
    "    z = point[0] * w1 + point[1] * w2 + point[2] * w3 + point[3] * w4 +b\n",
    "    prediction = sigmoid(z)\n",
    "    target = point[4]\n",
    "    \n",
    "    #erro ao quadrado\n",
    "    cost = np.square(prediction - target)\n",
    "    \n",
    "    dcost_prediction = (prediction - target)\n",
    "    \n",
    "    #Derivada da sigmoid, aplicando a soma dos pesos e bias atual\n",
    "    dprediction_dz = sigmoid_p(z)\n",
    "    \n",
    "    #Dados de input e colocando 1 como valor de bias\n",
    "    dz_dw1 = point[0]\n",
    "    dz_dw2 = point[1]\n",
    "    dz_dw3 = point[2]\n",
    "    dz_dw4 = point[3]\n",
    "    dz_db = 1\n",
    "    \n",
    "    #A curva do erro com a derivada da sigmoid\n",
    "    dcost_dz = dcost_prediction * dprediction_dz\n",
    "    \n",
    "    #As curvas do erro vezes o input original\n",
    "    dcost_dw1 = dcost_dz * dz_dw1\n",
    "    dcost_dw2 = dcost_dz * dz_dw2\n",
    "    dcost_dw3 = dcost_dz * dz_dw3\n",
    "    dcost_dw4 = dcost_dz * dz_dw4\n",
    "    dcost_db = dcost_dz * dz_db\n",
    "    \n",
    "    #Calculando novos pesos e valor do bias\n",
    "    w1 = w1 - learning_rate * dcost_dw1\n",
    "    w2 = w2 - learning_rate * dcost_dw2\n",
    "    w3 = w3 - learning_rate * dcost_dw3\n",
    "    w4 = w4 - learning_rate * dcost_dw4\n",
    "    b = b - learning_rate * dcost_db\n",
    "    \n",
    "    \n",
    "    #Fazendo o gráfico para apresentacao das iteracoes\n",
    "    if i % 10 == 0:\n",
    "        cost_sum = 0\n",
    "        for j in range(len(data)) :\n",
    "            point = data[ri]\n",
    "            \n",
    "            z = point [0] * w1 + point[1] * w2 + point[2] * w3 + point[3] * w4 + b\n",
    "            prediction = sigmoid(z)\n",
    "            \n",
    "            target = point[4]\n",
    "            cost_sum += np.square(prediction - target)\n",
    "            \n",
    "        costs.append(cost_sum/len(data))    \n",
    "    \n"
   ]
  },
  {
   "cell_type": "markdown",
   "metadata": {},
   "source": [
    "###### 4 Resultados:\n",
    "A cada época o conjunto de teste foi utilizado para verificar o erro da rede. Pode-se observar no gráfico abaixo, que com a conclusão das 100000 épocas utilizadas, o erro convergiu para 0."
   ]
  },
  {
   "cell_type": "code",
   "execution_count": 38,
   "metadata": {
    "scrolled": true
   },
   "outputs": [
    {
     "data": {
      "text/plain": [
       "[<matplotlib.lines.Line2D at 0x10e591950>]"
      ]
     },
     "execution_count": 38,
     "metadata": {},
     "output_type": "execute_result"
    },
    {
     "data": {
      "image/png": "[encoded data removed]",
      "text/plain": [
       "<matplotlib.figure.Figure at 0x10f291dd0>"
      ]
     },
     "metadata": {},
     "output_type": "display_data"
    }
   ],
   "source": [
    "plt.plot(costs)"
   ]
  },
  {
   "cell_type": "markdown",
   "metadata": {},
   "source": [
    "###### 4.1 Testes\n",
    "\n",
    "Criamos uma cópia do dataset com as labels 0 ou 1, assim como fizemos para o treinamento, e prosseguimos com os testes para os pesos já reajustados como mostrado abaixo"
   ]
  },
  {
   "cell_type": "code",
   "execution_count": 32,
   "metadata": {},
   "outputs": [],
   "source": [
    "iris_labeled_test = iris_test.copy()\n",
    "\n",
    "for index, row in iris_labeled_test.iterrows():\n",
    "    if row['Species'] == 'Iris-setosa':\n",
    "        iris_labeled_test.loc[index, 'label'] = 1\n",
    "    else:\n",
    "        iris_labeled_test.loc[index, 'label'] = 0"
   ]
  },
  {
   "cell_type": "markdown",
   "metadata": {},
   "source": [
    "    Podemos observar que o erro é minimo, na casa dos 0.00001, e que a predição está funcionando corretamente"
   ]
  },
  {
   "cell_type": "code",
   "execution_count": 39,
   "metadata": {},
   "outputs": [
    {
     "data": {
      "text/plain": [
       "array([6.3, 2.5, 4.9, 1.5, 0. ])"
      ]
     },
     "metadata": {},
     "output_type": "display_data"
    },
    {
     "name": "stdout",
     "output_type": "stream",
     "text": [
      "Resposta : 0.000952112760078 [+] Label Correta: 0.0\n"
     ]
    },
    {
     "data": {
      "text/plain": [
       "array([6.1, 2.8, 4.7, 1.2, 0. ])"
      ]
     },
     "metadata": {},
     "output_type": "display_data"
    },
    {
     "name": "stdout",
     "output_type": "stream",
     "text": [
      "Resposta : 0.00366830820022 [+] Label Correta: 0.0\n"
     ]
    },
    {
     "data": {
      "text/plain": [
       "array([5.8, 2.7, 4.1, 1. , 0. ])"
      ]
     },
     "metadata": {},
     "output_type": "display_data"
    },
    {
     "name": "stdout",
     "output_type": "stream",
     "text": [
      "Resposta : 0.0162115372774 [+] Label Correta: 0.0\n"
     ]
    },
    {
     "data": {
      "text/plain": [
       "array([5.4, 3.7, 1.5, 0.2, 1. ])"
      ]
     },
     "metadata": {},
     "output_type": "display_data"
    },
    {
     "name": "stdout",
     "output_type": "stream",
     "text": [
      "Resposta : 0.99354033417 [+] Label Correta: 1.0\n"
     ]
    },
    {
     "data": {
      "text/plain": [
       "array([4.9, 3. , 1.4, 0.2, 1. ])"
      ]
     },
     "metadata": {},
     "output_type": "display_data"
    },
    {
     "name": "stdout",
     "output_type": "stream",
     "text": [
      "Resposta : 0.980252494492 [+] Label Correta: 1.0\n"
     ]
    },
    {
     "data": {
      "text/plain": [
       "array([6.3, 3.3, 4.7, 1.6, 0. ])"
      ]
     },
     "metadata": {},
     "output_type": "display_data"
    },
    {
     "name": "stdout",
     "output_type": "stream",
     "text": [
      "Resposta : 0.00466276168459 [+] Label Correta: 0.0\n"
     ]
    },
    {
     "data": {
      "text/plain": [
       "array([6.1, 2.9, 4.7, 1.4, 0. ])"
      ]
     },
     "metadata": {},
     "output_type": "display_data"
    },
    {
     "name": "stdout",
     "output_type": "stream",
     "text": [
      "Resposta : 0.00309259271608 [+] Label Correta: 0.0\n"
     ]
    },
    {
     "data": {
      "text/plain": [
       "array([5.6, 2.9, 3.6, 1.3, 0. ])"
      ]
     },
     "metadata": {},
     "output_type": "display_data"
    },
    {
     "name": "stdout",
     "output_type": "stream",
     "text": [
      "Resposta : 0.0410929170308 [+] Label Correta: 0.0\n"
     ]
    },
    {
     "data": {
      "text/plain": [
       "array([5.1, 3.5, 1.4, 0.2, 1. ])"
      ]
     },
     "metadata": {},
     "output_type": "display_data"
    },
    {
     "name": "stdout",
     "output_type": "stream",
     "text": [
      "Resposta : 0.991860676139 [+] Label Correta: 1.0\n"
     ]
    },
    {
     "data": {
      "text/plain": [
       "array([6.7, 3.1, 4.4, 1.4, 0. ])"
      ]
     },
     "metadata": {},
     "output_type": "display_data"
    },
    {
     "name": "stdout",
     "output_type": "stream",
     "text": [
      "Resposta : 0.0123819114443 [+] Label Correta: 0.0\n"
     ]
    }
   ],
   "source": [
    "data = iris_labeled_test[['SepalLengthCm', 'SepalWidthCm', 'PetalLengthCm', 'PetalWidthCm', 'label']].values\n",
    "\n",
    "\n",
    "        \n",
    "for i in range(len(data)):\n",
    "    point = data[i]\n",
    "    display(point)\n",
    "    \n",
    "    z = point[0] * w1 + point[1] * w2 + point[2] * w3 + point[3] * w4 + b\n",
    "    prediction = sigmoid(z)\n",
    "    target = point[4]\n",
    "    \n",
    "    print(\"Resposta : {}\".format(prediction) + \" [+] Label Correta: \" + str(point[4]))\n"
   ]
  },
  {
   "cell_type": "code",
   "execution_count": 34,
   "metadata": {},
   "outputs": [],
   "source": [
    "# 0 para Iris-setosa e 1 para Iris-versicolor\n",
    "def guess_flower(SepalLength, SepalWidth, PetalLength, PetalWidth) :\n",
    "    z = SepalLength * w1 + SepalWidth * w2 + PetalLength * w3 + PetalWidth * w4 + b\n",
    "    prediction = sigmoid(z)\n",
    "    if prediction < .5:\n",
    "        print('Iris-setosa')\n",
    "    else:\n",
    "        print('Iris-versicolor')"
   ]
  },
  {
   "cell_type": "code",
   "execution_count": 35,
   "metadata": {},
   "outputs": [
    {
     "name": "stdout",
     "output_type": "stream",
     "text": [
      "Iris-versicolor\n"
     ]
    }
   ],
   "source": [
    "guess_flower(4.8, 3.0, 1.4, 0.3)\n"
   ]
  },
  {
   "cell_type": "markdown",
   "metadata": {},
   "source": [
    "###### 5 Conclusão:\n",
    "A partir da análise do projeto, pode se concluir que o treinamento de uma rede neural, composta por um neurônio, foi suficiente para realizar a classificação precisa entre os dois gêneros de flores. Desse modo, a rede mostrou-se eficiente para realizar o propósito a ela indicado."
   ]
  },
  {
   "cell_type": "code",
   "execution_count": 36,
   "metadata": {},
   "outputs": [
    {
     "name": "stdout",
     "output_type": "stream",
     "text": [
      "Obrigado!\n"
     ]
    }
   ],
   "source": [
    "print \"Obrigado!\""
   ]
  },
  {
   "cell_type": "code",
   "execution_count": null,
   "metadata": {},
   "outputs": [],
   "source": []
  }
 ],
 "metadata": {
  "kernelspec": {
   "display_name": "Python 2",
   "language": "python",
   "name": "python2"
  },
  "language_info": {
   "codemirror_mode": {
    "name": "ipython",
    "version": 2
   },
   "file_extension": ".py",
   "mimetype": "text/x-python",
   "name": "python",
   "nbconvert_exporter": "python",
   "pygments_lexer": "ipython2",
   "version": "2.7.14"
  }
 },
 "nbformat": 4,
 "nbformat_minor": 2
}
