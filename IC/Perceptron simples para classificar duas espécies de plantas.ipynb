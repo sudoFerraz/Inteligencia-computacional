{
 "cells": [
  {
   "cell_type": "markdown",
   "metadata": {},
   "source": [
    "   # Perceptron simples para classificação de duas espécies de flores do gênero Iris\n",
    "   #### Universidade Federal de Uberlândia - Inteligência Computacional\n",
    "                        6 de junho de 2018\n"
   ]
  },
  {
   "cell_type": "markdown",
   "metadata": {},
   "source": [
    "             Arthur Ribeiro - Bruno Moreira - Ian Resende\n",
    "                     Gabriel Ferraz - Kim Ruan  \n",
    "     \n",
    "     \n",
    "     "
   ]
  },
  {
   "cell_type": "markdown",
   "metadata": {},
   "source": [
    "###### Resumo\n",
    "   As Redes Neurais Artificiais, buscam, a partir do interligamento de unidades individuais denominadas neurônios artificiais, modelor o comportamento do cérebro para a resolução de problemas. São amplamente utilizadas em problemas de classificação, onde é necessário associar uma amostra a um conjunto de classes predefinidas\n",
    "    \n",
    "       Este trabalho apresenta o uso de um Perceptron Simples para \n",
    "       realizar a classificação de duas espécies de flores do gênero \n",
    "       Iris.\n",
    "\n",
    "\n",
    "Palavras chaves: Redes neuras, RNA, Perceptron, Iris."
   ]
  },
  {
   "cell_type": "markdown",
   "metadata": {},
   "source": [
    "###### Introdução\n",
    "\n",
    "   Neste trabalho uma camada única, constituída de um Perceptron Simples com 4 pesos independentes, é utilizada para realizar a classificação de duas espécies de flores do gênero Iris, Iris Setosa e Iris Versicolor, dado o tamanho e largura das sépalas, assim como o tamanho e largura das pétalas.\n",
    "    \n",
    "        O relatório está organizado da seguinte forma: a Seção 2, apresenta a contextualização do problema. A Seção 3, descreve a metodologia utilizada para o desenvolvimento do projeto. Os resultados e suas respectivas análises são apresentados na Seção 4. Finalmente, a Seção 5 apresenta as conclusões do trabalho."
   ]
  },
  {
   "cell_type": "markdown",
   "metadata": {},
   "source": [
    "###### 2. Problema Abordado\n",
    "    Iris é um género de plantas com flor, muito apreciado pelas suas diversas espécies, que ostentam flores de cores muito vivas.\n",
    "    \n",
    "    Espécies de Iris podem ser utilizadas desde filtragem de água, produção de bebidas destiladas até produção de veneno para armamentos (flechas envenenadas do período medieval). Devido a sua diversidade de usos, é necessário que o produtor saiba diferenciar suas espécies a fim de não causar problemas na produção do produto final, seja este um perfume, bebida, ou qualquer outro fim.\n",
    "    \n",
    "    Para o uso correto da planta, é necessário então, poder classificar a mesma em sua devida espécie, e por isso, foi proposto a solução de um classificador que possa predizer de qual espécie determinada planta é, dado uma situação onde um botânico precisa dessa informação para prosseguir com seu planejamento e cultivo"
   ]
  },
  {
   "cell_type": "markdown",
   "metadata": {},
   "source": [
    "###### Metodologia\n",
    "Essa seção descreve a construção e arquitetura da rede neural artificial utilizada no projeto."
   ]
  },
  {
   "cell_type": "code",
   "execution_count": 2,
   "metadata": {},
   "outputs": [],
   "source": [
    "# -*- coding: utf-8 -*-\n",
    "#https://archive.ics.uci.edu/ml/datasets/iris"
   ]
  },
  {
   "cell_type": "code",
   "execution_count": 3,
   "metadata": {},
   "outputs": [],
   "source": [
    "%matplotlib inline"
   ]
  },
  {
   "cell_type": "code",
   "execution_count": 68,
   "metadata": {},
   "outputs": [],
   "source": [
    "from matplotlib import pyplot as plt\n",
    "import numpy as np\n",
    "import pandas as pd\n",
    "from IPython.core.display import display\n",
    "from IPython.display import Image\n",
    "import seaborn as sns\n",
    "sns.set()"
   ]
  },
  {
   "cell_type": "markdown",
   "metadata": {},
   "source": [
    "###### 3.1 Exploração dos dados para planejamento da arquitetura"
   ]
  },
  {
   "cell_type": "code",
   "execution_count": 9,
   "metadata": {
    "scrolled": true
   },
   "outputs": [
    {
     "data": {
      "text/html": [
       "<div>\n",
       "<style scoped>\n",
       "    .dataframe tbody tr th:only-of-type {\n",
       "        vertical-align: middle;\n",
       "    }\n",
       "\n",
       "    .dataframe tbody tr th {\n",
       "        vertical-align: top;\n",
       "    }\n",
       "\n",
       "    .dataframe thead th {\n",
       "        text-align: right;\n",
       "    }\n",
       "</style>\n",
       "<table border=\"1\" class=\"dataframe\">\n",
       "  <thead>\n",
       "    <tr style=\"text-align: right;\">\n",
       "      <th></th>\n",
       "      <th>Id</th>\n",
       "      <th>SepalLengthCm</th>\n",
       "      <th>SepalWidthCm</th>\n",
       "      <th>PetalLengthCm</th>\n",
       "      <th>PetalWidthCm</th>\n",
       "      <th>Species</th>\n",
       "    </tr>\n",
       "  </thead>\n",
       "  <tbody>\n",
       "    <tr>\n",
       "      <th>0</th>\n",
       "      <td>1</td>\n",
       "      <td>5.1</td>\n",
       "      <td>3.5</td>\n",
       "      <td>1.4</td>\n",
       "      <td>0.2</td>\n",
       "      <td>Iris-setosa</td>\n",
       "    </tr>\n",
       "    <tr>\n",
       "      <th>1</th>\n",
       "      <td>2</td>\n",
       "      <td>4.9</td>\n",
       "      <td>3.0</td>\n",
       "      <td>1.4</td>\n",
       "      <td>0.2</td>\n",
       "      <td>Iris-setosa</td>\n",
       "    </tr>\n",
       "    <tr>\n",
       "      <th>2</th>\n",
       "      <td>3</td>\n",
       "      <td>4.7</td>\n",
       "      <td>3.2</td>\n",
       "      <td>1.3</td>\n",
       "      <td>0.2</td>\n",
       "      <td>Iris-setosa</td>\n",
       "    </tr>\n",
       "    <tr>\n",
       "      <th>3</th>\n",
       "      <td>4</td>\n",
       "      <td>4.6</td>\n",
       "      <td>3.1</td>\n",
       "      <td>1.5</td>\n",
       "      <td>0.2</td>\n",
       "      <td>Iris-setosa</td>\n",
       "    </tr>\n",
       "    <tr>\n",
       "      <th>4</th>\n",
       "      <td>5</td>\n",
       "      <td>5.0</td>\n",
       "      <td>3.6</td>\n",
       "      <td>1.4</td>\n",
       "      <td>0.2</td>\n",
       "      <td>Iris-setosa</td>\n",
       "    </tr>\n",
       "  </tbody>\n",
       "</table>\n",
       "</div>"
      ],
      "text/plain": [
       "   Id  SepalLengthCm  SepalWidthCm  PetalLengthCm  PetalWidthCm      Species\n",
       "0   1            5.1           3.5            1.4           0.2  Iris-setosa\n",
       "1   2            4.9           3.0            1.4           0.2  Iris-setosa\n",
       "2   3            4.7           3.2            1.3           0.2  Iris-setosa\n",
       "3   4            4.6           3.1            1.5           0.2  Iris-setosa\n",
       "4   5            5.0           3.6            1.4           0.2  Iris-setosa"
      ]
     },
     "metadata": {},
     "output_type": "display_data"
    }
   ],
   "source": [
    "iris = pd.read_csv('train.csv')\n",
    "display(iris.head(5))\n"
   ]
  },
  {
   "cell_type": "markdown",
   "metadata": {},
   "source": [
    "Como podemos observar, o dataset possui 4 features em cada linha, juntamente com um identificador e a sua respectiva espécie, dada pelas strings:\n",
    "        \n",
    "           Iris-setosa / Iris-versicolor\n",
    "           \n",
    "Iremos agora, explorar e demonstrar a justificativa de nossa escolha pela arquitetura utilizada neste trabalho, consequência da exploração das distribuições das features em cada uma das espécies do dataset."
   ]
  },
  {
   "cell_type": "code",
   "execution_count": 50,
   "metadata": {
    "scrolled": false
   },
   "outputs": [
    {
     "data": {
      "image/png": "[encoded data removed]",
      "text/plain": [
       "<matplotlib.figure.Figure at 0x1a182f5c90>"
      ]
     },
     "metadata": {},
     "output_type": "display_data"
    },
    {
     "data": {
      "image/png": "[encoded data removed]",
      "text/plain": [
       "<matplotlib.figure.Figure at 0x1a182f5d50>"
      ]
     },
     "metadata": {},
     "output_type": "display_data"
    },
    {
     "data": {
      "image/png": "[encoded data removed]",
      "text/plain": [
       "<matplotlib.figure.Figure at 0x1a1814ba90>"
      ]
     },
     "metadata": {},
     "output_type": "display_data"
    },
    {
     "data": {
      "image/png": "[encoded data removed]",
      "text/plain": [
       "<matplotlib.figure.Figure at 0x1a1814a910>"
      ]
     },
     "metadata": {},
     "output_type": "display_data"
    }
   ],
   "source": [
    "def plot_histogram_dv(feature,labels):\n",
    "    plt.figure(figsize=(15,10))\n",
    "    plt.hist(list(feature[labels=='Iris-setosa']), alpha=0.5, label='Setosa')\n",
    "    plt.hist(list(feature[labels=='Iris-versicolor']), alpha=0.5, label='Versicolor')\n",
    "    plt.title(\"Histogram of '{var_name}' by Species\".format(var_name=feature.name))\n",
    "    plt.xlabel(\"Valor\")\n",
    "    plt.ylabel(\"Frequencia\")\n",
    "    plt.legend(loc=\"upper right\")\n",
    "    plt.show()\n",
    "    \n",
    "plot_histogram_dv(iris['SepalLengthCm'], iris['Species'])\n",
    "plot_histogram_dv(iris['SepalWidthCm'], iris['Species'])\n",
    "plot_histogram_dv(iris['PetalLengthCm'], iris['Species'])\n",
    "plot_histogram_dv(iris['PetalWidthCm'], iris['Species'])"
   ]
  },
  {
   "cell_type": "markdown",
   "metadata": {},
   "source": [
    "###### 3.2 Arquitetura do Perceptron\n",
    "   Para solucionar o problema discutido, deve-se classificar a flor entre as classes Iris-setosa(azul) e Iris-versicolor(verde), como mostrado anteriormente, podemos então perceber, que pelas features PetalLengthCm e PetalWidthCm existe uma diferença perceptível entre as duas classes de espécies, onde é possível, assim como demonstrado abaixo, enquadrar este problema como linearmente separável."
   ]
  },
  {
   "cell_type": "code",
   "execution_count": 61,
   "metadata": {},
   "outputs": [
    {
     "data": {
      "image/png": "[encoded data removed]",
      "text/plain": [
       "<matplotlib.figure.Figure at 0x1a1919b8d0>"
      ]
     },
     "metadata": {},
     "output_type": "display_data"
    }
   ],
   "source": [
    "setosas_length = []\n",
    "versicolors_length = []\n",
    "setosas_width = []\n",
    "versicolors_width = []\n",
    "\n",
    "#Fazendo um array de cada uma das especies da feature PetalLengthCm\n",
    "for index, row in iris.iterrows():\n",
    "    if row['Species'] == 'Iris-setosa':\n",
    "        setosas_length.append(row['PetalLengthCm'])\n",
    "        setosas_width.append(row['PetalWidthCm'])\n",
    "    else:\n",
    "        versicolors_length.append(row['PetalLengthCm'])\n",
    "        versicolors_width.append(row['PetalWidthCm'])\n",
    "        \n",
    "#Fazendo com que os dois arrays sejam do mesmo tamanho para visualizacao\n",
    "versicolors_length = versicolors_length[:len(setosas_length)]\n",
    "versicolors_width = versicolors_width[:len(setosas_width)]\n",
    "\n",
    "#Plotando um scatter plot das duas features linearmente separaveis\n",
    "plt.figure(figsize=(15,10))\n",
    "plt.scatter(setosas_length, setosas_width, c=[\"b\", \"b\"], alpha=0.5)\n",
    "plt.scatter(versicolors_width, versicolors_length, c=[\"g\", \"g\"], alpha=0.5)\n",
    "plt.show()"
   ]
  },
  {
   "cell_type": "markdown",
   "metadata": {},
   "source": [
    "###### 3.3 Pre processamento e preparamento do dataset \n",
    "Dividimos o dataset em 80% para treino e 20% para testes de performance e métricas de acerto.\n",
    "\n",
    "Depois desta etapa de seleção, criamos um array que servirá como target, de cada uma das posições do dataset original para comparação posterior"
   ]
  },
  {
   "cell_type": "code",
   "execution_count": 62,
   "metadata": {
    "scrolled": false
   },
   "outputs": [
    {
     "data": {
      "text/html": [
       "<div>\n",
       "<style scoped>\n",
       "    .dataframe tbody tr th:only-of-type {\n",
       "        vertical-align: middle;\n",
       "    }\n",
       "\n",
       "    .dataframe tbody tr th {\n",
       "        vertical-align: top;\n",
       "    }\n",
       "\n",
       "    .dataframe thead th {\n",
       "        text-align: right;\n",
       "    }\n",
       "</style>\n",
       "<table border=\"1\" class=\"dataframe\">\n",
       "  <thead>\n",
       "    <tr style=\"text-align: right;\">\n",
       "      <th></th>\n",
       "      <th>Id</th>\n",
       "      <th>SepalLengthCm</th>\n",
       "      <th>SepalWidthCm</th>\n",
       "      <th>PetalLengthCm</th>\n",
       "      <th>PetalWidthCm</th>\n",
       "      <th>Species</th>\n",
       "    </tr>\n",
       "  </thead>\n",
       "  <tbody>\n",
       "    <tr>\n",
       "      <th>36</th>\n",
       "      <td>76</td>\n",
       "      <td>6.6</td>\n",
       "      <td>3.0</td>\n",
       "      <td>4.4</td>\n",
       "      <td>1.4</td>\n",
       "      <td>Iris-versicolor</td>\n",
       "    </tr>\n",
       "    <tr>\n",
       "      <th>37</th>\n",
       "      <td>73</td>\n",
       "      <td>6.3</td>\n",
       "      <td>2.5</td>\n",
       "      <td>4.9</td>\n",
       "      <td>1.5</td>\n",
       "      <td>Iris-versicolor</td>\n",
       "    </tr>\n",
       "    <tr>\n",
       "      <th>38</th>\n",
       "      <td>72</td>\n",
       "      <td>6.1</td>\n",
       "      <td>2.8</td>\n",
       "      <td>4.0</td>\n",
       "      <td>1.3</td>\n",
       "      <td>Iris-versicolor</td>\n",
       "    </tr>\n",
       "    <tr>\n",
       "      <th>39</th>\n",
       "      <td>53</td>\n",
       "      <td>6.9</td>\n",
       "      <td>3.1</td>\n",
       "      <td>4.9</td>\n",
       "      <td>1.5</td>\n",
       "      <td>Iris-versicolor</td>\n",
       "    </tr>\n",
       "    <tr>\n",
       "      <th>40</th>\n",
       "      <td>67</td>\n",
       "      <td>5.6</td>\n",
       "      <td>3.0</td>\n",
       "      <td>4.5</td>\n",
       "      <td>1.5</td>\n",
       "      <td>Iris-versicolor</td>\n",
       "    </tr>\n",
       "  </tbody>\n",
       "</table>\n",
       "</div>"
      ],
      "text/plain": [
       "    Id  SepalLengthCm  SepalWidthCm  PetalLengthCm  PetalWidthCm  \\\n",
       "36  76            6.6           3.0            4.4           1.4   \n",
       "37  73            6.3           2.5            4.9           1.5   \n",
       "38  72            6.1           2.8            4.0           1.3   \n",
       "39  53            6.9           3.1            4.9           1.5   \n",
       "40  67            5.6           3.0            4.5           1.5   \n",
       "\n",
       "            Species  \n",
       "36  Iris-versicolor  \n",
       "37  Iris-versicolor  \n",
       "38  Iris-versicolor  \n",
       "39  Iris-versicolor  \n",
       "40  Iris-versicolor  "
      ]
     },
     "metadata": {},
     "output_type": "display_data"
    },
    {
     "data": {
      "text/plain": [
       "36    Iris-versicolor\n",
       "37    Iris-versicolor\n",
       "38    Iris-versicolor\n",
       "39    Iris-versicolor\n",
       "40    Iris-versicolor\n",
       "Name: Species, dtype: object"
      ]
     },
     "metadata": {},
     "output_type": "display_data"
    }
   ],
   "source": [
    "#randomizando ordem de linhas no dataframe\n",
    "iris = iris.sample(frac=1).reset_index(drop=True)\n",
    "\n",
    "#calculando tamanho do dataset e indice do corte\n",
    "iris_len = len(iris)\n",
    "iris_split_size = int(iris_len * 0.8)\n",
    "\n",
    "iris_train = iris[:iris_split_size]\n",
    "iris_test = iris[iris_split_size:]    \n",
    "\n",
    "#criando array de labels\n",
    "labels_train = iris[:iris_split_size]['Species']\n",
    "labels_test = iris[iris_split_size:]['Species']\n",
    "\n",
    "display(iris_test.head(5))\n",
    "display(labels_test.head(5))"
   ]
  },
  {
   "cell_type": "markdown",
   "metadata": {},
   "source": [
    "###### Continuação 3.2:\n",
    "\n",
    "Criamos então, uma cópia do dataset que possui uma nova coluna chamada label, que classifica as espécies da seguinte forma:\n",
    "                \n",
    "      Iris-setosa : Label = 0\n",
    "      Iris-versicolor : Label = 1"
   ]
  },
  {
   "cell_type": "code",
   "execution_count": 64,
   "metadata": {},
   "outputs": [
    {
     "data": {
      "text/html": [
       "<div>\n",
       "<style scoped>\n",
       "    .dataframe tbody tr th:only-of-type {\n",
       "        vertical-align: middle;\n",
       "    }\n",
       "\n",
       "    .dataframe tbody tr th {\n",
       "        vertical-align: top;\n",
       "    }\n",
       "\n",
       "    .dataframe thead th {\n",
       "        text-align: right;\n",
       "    }\n",
       "</style>\n",
       "<table border=\"1\" class=\"dataframe\">\n",
       "  <thead>\n",
       "    <tr style=\"text-align: right;\">\n",
       "      <th></th>\n",
       "      <th>Id</th>\n",
       "      <th>SepalLengthCm</th>\n",
       "      <th>SepalWidthCm</th>\n",
       "      <th>PetalLengthCm</th>\n",
       "      <th>PetalWidthCm</th>\n",
       "      <th>Species</th>\n",
       "      <th>label</th>\n",
       "    </tr>\n",
       "  </thead>\n",
       "  <tbody>\n",
       "    <tr>\n",
       "      <th>31</th>\n",
       "      <td>55</td>\n",
       "      <td>6.5</td>\n",
       "      <td>2.8</td>\n",
       "      <td>4.6</td>\n",
       "      <td>1.5</td>\n",
       "      <td>Iris-versicolor</td>\n",
       "      <td>0.0</td>\n",
       "    </tr>\n",
       "    <tr>\n",
       "      <th>32</th>\n",
       "      <td>56</td>\n",
       "      <td>5.7</td>\n",
       "      <td>2.8</td>\n",
       "      <td>4.5</td>\n",
       "      <td>1.3</td>\n",
       "      <td>Iris-versicolor</td>\n",
       "      <td>0.0</td>\n",
       "    </tr>\n",
       "    <tr>\n",
       "      <th>33</th>\n",
       "      <td>10</td>\n",
       "      <td>4.9</td>\n",
       "      <td>3.1</td>\n",
       "      <td>1.5</td>\n",
       "      <td>0.1</td>\n",
       "      <td>Iris-setosa</td>\n",
       "      <td>1.0</td>\n",
       "    </tr>\n",
       "    <tr>\n",
       "      <th>34</th>\n",
       "      <td>69</td>\n",
       "      <td>6.2</td>\n",
       "      <td>2.2</td>\n",
       "      <td>4.5</td>\n",
       "      <td>1.5</td>\n",
       "      <td>Iris-versicolor</td>\n",
       "      <td>0.0</td>\n",
       "    </tr>\n",
       "    <tr>\n",
       "      <th>35</th>\n",
       "      <td>15</td>\n",
       "      <td>5.8</td>\n",
       "      <td>4.0</td>\n",
       "      <td>1.2</td>\n",
       "      <td>0.2</td>\n",
       "      <td>Iris-setosa</td>\n",
       "      <td>1.0</td>\n",
       "    </tr>\n",
       "  </tbody>\n",
       "</table>\n",
       "</div>"
      ],
      "text/plain": [
       "    Id  SepalLengthCm  SepalWidthCm  PetalLengthCm  PetalWidthCm  \\\n",
       "31  55            6.5           2.8            4.6           1.5   \n",
       "32  56            5.7           2.8            4.5           1.3   \n",
       "33  10            4.9           3.1            1.5           0.1   \n",
       "34  69            6.2           2.2            4.5           1.5   \n",
       "35  15            5.8           4.0            1.2           0.2   \n",
       "\n",
       "            Species  label  \n",
       "31  Iris-versicolor    0.0  \n",
       "32  Iris-versicolor    0.0  \n",
       "33      Iris-setosa    1.0  \n",
       "34  Iris-versicolor    0.0  \n",
       "35      Iris-setosa    1.0  "
      ]
     },
     "metadata": {},
     "output_type": "display_data"
    }
   ],
   "source": [
    "iris_labeled_train = iris_train.copy()\n",
    "\n",
    "for i in range(0, len(iris_labeled_train)):\n",
    "    if iris_train['Species'][i] == 'Iris-setosa':\n",
    "        iris_labeled_train.loc[i, 'label'] = 1\n",
    "    else:\n",
    "        iris_labeled_train.loc[i, 'label'] = 0\n",
    "\n",
    "display(iris_labeled_train.tail(5))\n",
    "\n",
    "\n"
   ]
  },
  {
   "cell_type": "markdown",
   "metadata": {},
   "source": [
    "###### 3.3 Características da arquitetura\n",
    "\n",
    "Com quatro entradas por amostra, o neurônio calcula o sinal de ativação, onde o peso das duas features que vimos anteriormente, torna possível essa divisão linear entre as classes, que por sua vez, é submetido à função de ativação.\n",
    "\n",
    "Foi utilizada como função de ativação a função sigmóide dada por:"
   ]
  },
  {
   "cell_type": "code",
   "execution_count": 69,
   "metadata": {},
   "outputs": [
    {
     "data": {
      "image/png": "[encoded data removed]",
      "text/plain": [
       "<IPython.core.display.Image object>"
      ]
     },
     "execution_count": 69,
     "metadata": {},
     "output_type": "execute_result"
    }
   ],
   "source": [
    "Image('sigmoide.png')"
   ]
  },
  {
   "cell_type": "code",
   "execution_count": 54,
   "metadata": {},
   "outputs": [],
   "source": [
    "def sigmoid(x):\n",
    "    return 1/(1 + np.exp(-x))\n",
    "\n",
    "def sigmoid_p(x):\n",
    "    return sigmoid(x) * (1-sigmoid(x))\n"
   ]
  },
  {
   "cell_type": "markdown",
   "metadata": {},
   "source": [
    "###### 3.4 Treinamento\n",
    "Para a rede, foi utilizado um treinamento supervisionado, utilizado o dataset construído conforme os passos anteriores. Os vetores de peso foram iniciados com valores aleatórios, assim como o viés, enquanto o conjunto de dados foi embaralhado randomicamente."
   ]
  },
  {
   "cell_type": "code",
   "execution_count": 75,
   "metadata": {
    "scrolled": false
   },
   "outputs": [],
   "source": [
    "learning_rate = 0.2\n",
    "costs = []\n",
    "\n",
    "#pesos e bias aleatório\n",
    "w1 = np.random.randn()\n",
    "w2 = np.random.randn()\n",
    "w3 = np.random.randn()\n",
    "w4 = np.random.randn()\n",
    "b = np.random.randn()\n",
    "\n",
    "#Criando um numpy array apenas com os valores de cada feature\n",
    "data = iris_labeled_train[['SepalLengthCm', 'SepalWidthCm', 'PetalLengthCm', 'PetalWidthCm', 'label']].values\n",
    "labels = []\n",
    "\n",
    "#Definindo as labels como 0 ou 1\n",
    "#Iris-Versicolor = 1\n",
    "#Iris-Virginica = 0\n",
    "\n",
    "        \n",
    "repetitions = 100000\n",
    "\n",
    "for i in range(0, repetitions):\n",
    "    #Escolhendo um ponto aleatorio do dataset a cada iteracao\n",
    "    ri = np.random.randint(len(data))\n",
    "    point = data[ri]\n",
    "    \n",
    "    z = point[0] * w1 + point[1] * w2 + point[2] * w3 + point[3] * w4 +b\n",
    "    prediction = sigmoid(z)\n",
    "    target = point[4]\n",
    "    \n",
    "    #Funcao de custo\n",
    "    cost = np.square(prediction - target)\n",
    "    \n",
    "    #Derivada da funcao de custo\n",
    "    dcost_prediction = 2 * (prediction - target)\n",
    "    \n",
    "    #Sigmoid_p e a derivada da sigmoid, aplicando ao resultado dos pesos\n",
    "    dprediction_dz = sigmoid_p(z)\n",
    "    \n",
    "    #Dados de input e colocando 1 como valor de bias\n",
    "    dz_dw1 = point[0]\n",
    "    dz_dw2 = point[1]\n",
    "    dz_dw3 = point[2]\n",
    "    dz_dw4 = point[3]\n",
    "    dz_db = 1\n",
    "    \n",
    "    #A curva da funcao de custo\n",
    "    dcost_dz = dcost_prediction * dprediction_dz\n",
    "    \n",
    "    #As curvas dos pesos e do bias\n",
    "    dcost_dw1 = dcost_dz * dz_dw1\n",
    "    dcost_dw2 = dcost_dz * dz_dw2\n",
    "    dcost_dw3 = dcost_dz * dz_dw3\n",
    "    dcost_dw4 = dcost_dz * dz_dw4\n",
    "    dcost_db = dcost_dz * dz_db\n",
    "    \n",
    "    #Calculando novos pesos e valor do bias\n",
    "    w1 = w1 - learning_rate * dcost_dw1\n",
    "    w2 = w2 - learning_rate * dcost_dw2\n",
    "    w3 = w3 - learning_rate * dcost_dw3\n",
    "    w4 = w4 - learning_rate * dcost_dw4\n",
    "    b = b - learning_rate * dcost_db\n",
    "    \n",
    "    \n",
    "    #Fazendo o gráfico para apresentacao das iteracoes\n",
    "    if i % 10 == 0:\n",
    "        cost_sum = 0\n",
    "        for j in range(len(data)) :\n",
    "            point = data[ri]\n",
    "            \n",
    "            z = point [0] * w1 + point[1] * w2 + point[2] * w3 + point[3] * w4 + b\n",
    "            prediction = sigmoid(z)\n",
    "            \n",
    "            target = point[4]\n",
    "            cost_sum += np.square(prediction - target)\n",
    "            \n",
    "        costs.append(cost_sum/len(data))    \n",
    "    \n"
   ]
  },
  {
   "cell_type": "markdown",
   "metadata": {},
   "source": [
    "###### 4 Resultados:\n",
    "A cada época o conjunto de teste foi utilizado para verificar o erro da rede. Pode-se observar no gráfico abaixo, que com a conclusão das 100000 épocas utilizadas, o erro convergiu para 0."
   ]
  },
  {
   "cell_type": "code",
   "execution_count": 77,
   "metadata": {
    "scrolled": true
   },
   "outputs": [
    {
     "data": {
      "text/plain": [
       "[<matplotlib.lines.Line2D at 0x1a18494250>]"
      ]
     },
     "execution_count": 77,
     "metadata": {},
     "output_type": "execute_result"
    },
    {
     "data": {
      "image/png": "[encoded data removed]",
      "text/plain": [
       "<matplotlib.figure.Figure at 0x1a17c08ad0>"
      ]
     },
     "metadata": {},
     "output_type": "display_data"
    }
   ],
   "source": [
    "plt.plot(costs)"
   ]
  },
  {
   "cell_type": "markdown",
   "metadata": {},
   "source": [
    "###### 4.1 Testes\n",
    "\n",
    "Criamos uma cópia do dataset com as labels 0 ou 1, assim como fizemos para o treinamento, e prosseguimos com os testes para os pesos já reajustados como mostrado abaixo"
   ]
  },
  {
   "cell_type": "code",
   "execution_count": 70,
   "metadata": {},
   "outputs": [],
   "source": [
    "iris_labeled_test = iris_test.copy()\n",
    "\n",
    "for index, row in iris_labeled_test.iterrows():\n",
    "    if row['Species'] == 'Iris-setosa':\n",
    "        iris_labeled_test.loc[index, 'label'] = 1\n",
    "    else:\n",
    "        iris_labeled_test.loc[index, 'label'] = 0"
   ]
  },
  {
   "cell_type": "markdown",
   "metadata": {},
   "source": [
    "    Podemos observar que o erro é minimo, na casa dos 0.00001, e que a predição está funcionando corretamente"
   ]
  },
  {
   "cell_type": "code",
   "execution_count": 57,
   "metadata": {},
   "outputs": [
    {
     "data": {
      "text/plain": [
       "array([5.8, 4. , 1.2, 0.2, 1. ])"
      ]
     },
     "metadata": {},
     "output_type": "display_data"
    },
    {
     "name": "stdout",
     "output_type": "stream",
     "text": [
      "Resposta : 0.999833857436 [+] Label Correta: 1.0\n"
     ]
    },
    {
     "data": {
      "text/plain": [
       "array([4.3, 3. , 1.1, 0.1, 1. ])"
      ]
     },
     "metadata": {},
     "output_type": "display_data"
    },
    {
     "name": "stdout",
     "output_type": "stream",
     "text": [
      "Resposta : 0.997944619632 [+] Label Correta: 1.0\n"
     ]
    },
    {
     "data": {
      "text/plain": [
       "array([6. , 2.2, 4. , 1. , 0. ])"
      ]
     },
     "metadata": {},
     "output_type": "display_data"
    },
    {
     "name": "stdout",
     "output_type": "stream",
     "text": [
      "Resposta : 0.00136129021632 [+] Label Correta: 0.0\n"
     ]
    },
    {
     "data": {
      "text/plain": [
       "array([5.1, 3.8, 1.5, 0.3, 1. ])"
      ]
     },
     "metadata": {},
     "output_type": "display_data"
    },
    {
     "name": "stdout",
     "output_type": "stream",
     "text": [
      "Resposta : 0.99878522712 [+] Label Correta: 1.0\n"
     ]
    },
    {
     "data": {
      "text/plain": [
       "array([5.1, 3.5, 1.4, 0.2, 1. ])"
      ]
     },
     "metadata": {},
     "output_type": "display_data"
    },
    {
     "name": "stdout",
     "output_type": "stream",
     "text": [
      "Resposta : 0.998580251357 [+] Label Correta: 1.0\n"
     ]
    },
    {
     "data": {
      "text/plain": [
       "array([6.1, 2.8, 4. , 1.3, 0. ])"
      ]
     },
     "metadata": {},
     "output_type": "display_data"
    },
    {
     "name": "stdout",
     "output_type": "stream",
     "text": [
      "Resposta : 0.00266317577019 [+] Label Correta: 0.0\n"
     ]
    },
    {
     "data": {
      "text/plain": [
       "array([5.6, 3. , 4.5, 1.5, 0. ])"
      ]
     },
     "metadata": {},
     "output_type": "display_data"
    },
    {
     "name": "stdout",
     "output_type": "stream",
     "text": [
      "Resposta : 0.000437675407548 [+] Label Correta: 0.0\n"
     ]
    },
    {
     "data": {
      "text/plain": [
       "array([6.2, 2.2, 4.5, 1.5, 0. ])"
      ]
     },
     "metadata": {},
     "output_type": "display_data"
    },
    {
     "name": "stdout",
     "output_type": "stream",
     "text": [
      "Resposta : 7.51388702338e-05 [+] Label Correta: 0.0\n"
     ]
    },
    {
     "data": {
      "text/plain": [
       "array([5.6, 2.9, 3.6, 1.3, 0. ])"
      ]
     },
     "metadata": {},
     "output_type": "display_data"
    },
    {
     "name": "stdout",
     "output_type": "stream",
     "text": [
      "Resposta : 0.00941053503652 [+] Label Correta: 0.0\n"
     ]
    },
    {
     "data": {
      "text/plain": [
       "array([4.8, 3. , 1.4, 0.1, 1. ])"
      ]
     },
     "metadata": {},
     "output_type": "display_data"
    },
    {
     "name": "stdout",
     "output_type": "stream",
     "text": [
      "Resposta : 0.995814554191 [+] Label Correta: 1.0\n"
     ]
    }
   ],
   "source": [
    "data = iris_labeled_test[['SepalLengthCm', 'SepalWidthCm', 'PetalLengthCm', 'PetalWidthCm', 'label']].values\n",
    "\n",
    "\n",
    "        \n",
    "for i in range(len(data)):\n",
    "    point = data[i]\n",
    "    display(point)\n",
    "    \n",
    "    z = point[0] * w1 + point[1] * w2 + point[2] * w3 + point[3] * w4 + b\n",
    "    prediction = sigmoid(z)\n",
    "    target = point[4]\n",
    "    \n",
    "    print(\"Resposta : {}\".format(prediction) + \" [+] Label Correta: \" + str(point[4]))\n"
   ]
  },
  {
   "cell_type": "code",
   "execution_count": 59,
   "metadata": {},
   "outputs": [],
   "source": [
    "# 0 para Iris-setosa e 1 para Iris-versicolor\n",
    "def guess_flower(SepalLength, SepalWidth, PetalLength, PetalWidth) :\n",
    "    z = SepalLength * w1 + SepalWidth * w2 + PetalLength * w3 + PetalWidth * w4 + b\n",
    "    prediction = sigmoid(z)\n",
    "    if prediction < .5:\n",
    "        print('Iris-setosa')\n",
    "    else:\n",
    "        print('Iris-versicolor')"
   ]
  },
  {
   "cell_type": "code",
   "execution_count": 60,
   "metadata": {},
   "outputs": [
    {
     "name": "stdout",
     "output_type": "stream",
     "text": [
      "Iris-versicolor\n"
     ]
    }
   ],
   "source": [
    "guess_flower(4.8, 3.0, 1.4, 0.3)\n"
   ]
  },
  {
   "cell_type": "markdown",
   "metadata": {},
   "source": [
    "###### 5 Conclusão:\n",
    "A partir da análise do projeto, pode se concluir que o treinamento de uma rede neural, composta por um neurônio, foi suficiente para realizar a classificação precisa entre os dois gêneros de flores. Desse modo, a rede mostrou-se eficiente para realizar o propósito a ela indicado."
   ]
  },
  {
   "cell_type": "code",
   "execution_count": 78,
   "metadata": {},
   "outputs": [
    {
     "name": "stdout",
     "output_type": "stream",
     "text": [
      "Obrigado!\n"
     ]
    }
   ],
   "source": [
    "print \"Obrigado!\""
   ]
  }
 ],
 "metadata": {
  "kernelspec": {
   "display_name": "Python 2",
   "language": "python",
   "name": "python2"
  },
  "language_info": {
   "codemirror_mode": {
    "name": "ipython",
    "version": 2
   },
   "file_extension": ".py",
   "mimetype": "text/x-python",
   "name": "python",
   "nbconvert_exporter": "python",
   "pygments_lexer": "ipython2",
   "version": "2.7.14"
  }
 },
 "nbformat": 4,
 "nbformat_minor": 2
}
